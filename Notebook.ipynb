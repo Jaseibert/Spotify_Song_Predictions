{
 "cells": [
  {
   "cell_type": "markdown",
   "metadata": {},
   "source": [
    "![alt text](https://storage.googleapis.com/pr-newsroom-wp/1/2018/11/Spotify_Logo_CMYK_Green.png)\n",
    "\n",
    "## Comparing Supervised & Unsupervised Learning Methods to Identify Songs for Spotify Playlists\n",
    "-Jeremy Seibert\n",
    "\n",
    "Spotify is an amazing music streaming service that touches over 200 million customers. This notebook is the exploration between two playlists, one filled with songs that are liked, and the other filled with songs that are disliked. These playlists are populated with songs built around my song preferences. Our goal here will be to use some fancy machine learning, to predict whether songs will be liked, and which songs will be disliked, based on the two aforementioned playlists.\n",
    "\n",
    "I aggregated the Spotify track data that we will be using in this notebook, by using an awesome package called SpotiPy. SpotiPy is a Python wrapper built for Spotify's API. As with most APIs, you’re required for authentication purposes to supply a client and secret ID. For this reason I will not be showing you in this notebook the exact methodology to gather these exact playlists, and I have simply supplied the information via a csv file. \n",
    "\n",
    "That said, I have put together a separate notebook outlining the process of using SpotiPy and how to access Spotify Data [here](https://github.com/Jaseibert/Spotipy_and_Spotify_API). "
   ]
  },
  {
   "cell_type": "markdown",
   "metadata": {},
   "source": [
    "### 1. We begin with the necessities\n",
    "\n",
    "We will start the notebook off by importing the data into a Pandas DataFrame called **total_data**. We can use the Pandas `df.loc` method to subset the total_data DataFrame into songs which are liked, as noted by a 1, and songs which are disliked, denoted by 0. "
   ]
  },
  {
   "cell_type": "code",
   "execution_count": 1,
   "metadata": {},
   "outputs": [],
   "source": [
    "import pandas as pd\n",
    "import numpy as np\n",
    "import warnings\n",
    "warnings.filterwarnings(\"ignore\")"
   ]
  },
  {
   "cell_type": "code",
   "execution_count": 2,
   "metadata": {},
   "outputs": [],
   "source": [
    "#Import the Dataset\n",
    "total_data = pd.read_csv('./Dataset/total_data.csv')\n",
    "total_data.head()\n",
    "\n",
    "# Subset the liked and disliked songs\n",
    "disliked_songs = total_data.loc[total_data[\"target\"] == 0]\n",
    "liked_songs = total_data.loc[total_data[\"target\"] == 1]"
   ]
  },
  {
   "cell_type": "markdown",
   "metadata": {},
   "source": [
    "### 2. Numerical EDA\n",
    "\n",
    "Let us begin by taking a look at the information that we have collected. For each song that Spotify has, they derive a series of metrics that describe the song. The descriptions of these metrics can be found [here](https://developer.spotify.com/documentation/web-api/reference/tracks/get-audio-features/). Below we can see the distribution of the metrics from the songs in the two playlists. \n"
   ]
  },
  {
   "cell_type": "code",
   "execution_count": 3,
   "metadata": {},
   "outputs": [
    {
     "data": {
      "text/html": [
       "<div>\n",
       "<style scoped>\n",
       "    .dataframe tbody tr th:only-of-type {\n",
       "        vertical-align: middle;\n",
       "    }\n",
       "\n",
       "    .dataframe tbody tr th {\n",
       "        vertical-align: top;\n",
       "    }\n",
       "\n",
       "    .dataframe thead th {\n",
       "        text-align: right;\n",
       "    }\n",
       "</style>\n",
       "<table border=\"1\" class=\"dataframe\">\n",
       "  <thead>\n",
       "    <tr style=\"text-align: right;\">\n",
       "      <th></th>\n",
       "      <th>acousticness</th>\n",
       "      <th>danceability</th>\n",
       "      <th>duration_ms</th>\n",
       "      <th>energy</th>\n",
       "      <th>instrumentalness</th>\n",
       "      <th>key</th>\n",
       "      <th>liveness</th>\n",
       "      <th>loudness</th>\n",
       "      <th>mode</th>\n",
       "      <th>speechiness</th>\n",
       "      <th>target</th>\n",
       "      <th>tempo</th>\n",
       "      <th>time_signature</th>\n",
       "      <th>valence</th>\n",
       "    </tr>\n",
       "  </thead>\n",
       "  <tbody>\n",
       "    <tr>\n",
       "      <th>count</th>\n",
       "      <td>427.000000</td>\n",
       "      <td>427.000000</td>\n",
       "      <td>427.000000</td>\n",
       "      <td>427.000000</td>\n",
       "      <td>427.000000</td>\n",
       "      <td>427.000000</td>\n",
       "      <td>427.000000</td>\n",
       "      <td>427.000000</td>\n",
       "      <td>427.000000</td>\n",
       "      <td>427.000000</td>\n",
       "      <td>427.000000</td>\n",
       "      <td>427.000000</td>\n",
       "      <td>427.000000</td>\n",
       "      <td>427.000000</td>\n",
       "    </tr>\n",
       "    <tr>\n",
       "      <th>mean</th>\n",
       "      <td>0.158086</td>\n",
       "      <td>0.616323</td>\n",
       "      <td>225362.634660</td>\n",
       "      <td>0.709520</td>\n",
       "      <td>0.014489</td>\n",
       "      <td>5.173302</td>\n",
       "      <td>0.185300</td>\n",
       "      <td>-6.044801</td>\n",
       "      <td>0.594848</td>\n",
       "      <td>0.082004</td>\n",
       "      <td>0.655738</td>\n",
       "      <td>121.992496</td>\n",
       "      <td>3.962529</td>\n",
       "      <td>0.537900</td>\n",
       "    </tr>\n",
       "    <tr>\n",
       "      <th>std</th>\n",
       "      <td>0.195572</td>\n",
       "      <td>0.134552</td>\n",
       "      <td>52364.684139</td>\n",
       "      <td>0.160338</td>\n",
       "      <td>0.080775</td>\n",
       "      <td>3.604632</td>\n",
       "      <td>0.137736</td>\n",
       "      <td>2.616608</td>\n",
       "      <td>0.491497</td>\n",
       "      <td>0.080011</td>\n",
       "      <td>0.475684</td>\n",
       "      <td>29.458095</td>\n",
       "      <td>0.244183</td>\n",
       "      <td>0.213176</td>\n",
       "    </tr>\n",
       "    <tr>\n",
       "      <th>min</th>\n",
       "      <td>0.000029</td>\n",
       "      <td>0.256000</td>\n",
       "      <td>101790.000000</td>\n",
       "      <td>0.161000</td>\n",
       "      <td>0.000000</td>\n",
       "      <td>0.000000</td>\n",
       "      <td>0.034100</td>\n",
       "      <td>-22.320000</td>\n",
       "      <td>0.000000</td>\n",
       "      <td>0.024400</td>\n",
       "      <td>0.000000</td>\n",
       "      <td>51.316000</td>\n",
       "      <td>1.000000</td>\n",
       "      <td>0.039700</td>\n",
       "    </tr>\n",
       "    <tr>\n",
       "      <th>25%</th>\n",
       "      <td>0.021000</td>\n",
       "      <td>0.531000</td>\n",
       "      <td>195393.500000</td>\n",
       "      <td>0.605000</td>\n",
       "      <td>0.000000</td>\n",
       "      <td>2.000000</td>\n",
       "      <td>0.094300</td>\n",
       "      <td>-7.039500</td>\n",
       "      <td>0.000000</td>\n",
       "      <td>0.037100</td>\n",
       "      <td>0.000000</td>\n",
       "      <td>98.081000</td>\n",
       "      <td>4.000000</td>\n",
       "      <td>0.388000</td>\n",
       "    </tr>\n",
       "    <tr>\n",
       "      <th>50%</th>\n",
       "      <td>0.070900</td>\n",
       "      <td>0.619000</td>\n",
       "      <td>216373.000000</td>\n",
       "      <td>0.731000</td>\n",
       "      <td>0.000000</td>\n",
       "      <td>6.000000</td>\n",
       "      <td>0.134000</td>\n",
       "      <td>-5.492000</td>\n",
       "      <td>1.000000</td>\n",
       "      <td>0.050600</td>\n",
       "      <td>1.000000</td>\n",
       "      <td>120.046000</td>\n",
       "      <td>4.000000</td>\n",
       "      <td>0.543000</td>\n",
       "    </tr>\n",
       "    <tr>\n",
       "      <th>75%</th>\n",
       "      <td>0.230000</td>\n",
       "      <td>0.713000</td>\n",
       "      <td>243492.000000</td>\n",
       "      <td>0.832000</td>\n",
       "      <td>0.000050</td>\n",
       "      <td>8.000000</td>\n",
       "      <td>0.240500</td>\n",
       "      <td>-4.465500</td>\n",
       "      <td>1.000000</td>\n",
       "      <td>0.085300</td>\n",
       "      <td>1.000000</td>\n",
       "      <td>140.707500</td>\n",
       "      <td>4.000000</td>\n",
       "      <td>0.686000</td>\n",
       "    </tr>\n",
       "    <tr>\n",
       "      <th>max</th>\n",
       "      <td>0.883000</td>\n",
       "      <td>0.980000</td>\n",
       "      <td>720186.000000</td>\n",
       "      <td>0.997000</td>\n",
       "      <td>0.836000</td>\n",
       "      <td>11.000000</td>\n",
       "      <td>0.882000</td>\n",
       "      <td>-0.698000</td>\n",
       "      <td>1.000000</td>\n",
       "      <td>0.481000</td>\n",
       "      <td>1.000000</td>\n",
       "      <td>215.894000</td>\n",
       "      <td>5.000000</td>\n",
       "      <td>0.969000</td>\n",
       "    </tr>\n",
       "  </tbody>\n",
       "</table>\n",
       "</div>"
      ],
      "text/plain": [
       "       acousticness  danceability    duration_ms      energy  \\\n",
       "count    427.000000    427.000000     427.000000  427.000000   \n",
       "mean       0.158086      0.616323  225362.634660    0.709520   \n",
       "std        0.195572      0.134552   52364.684139    0.160338   \n",
       "min        0.000029      0.256000  101790.000000    0.161000   \n",
       "25%        0.021000      0.531000  195393.500000    0.605000   \n",
       "50%        0.070900      0.619000  216373.000000    0.731000   \n",
       "75%        0.230000      0.713000  243492.000000    0.832000   \n",
       "max        0.883000      0.980000  720186.000000    0.997000   \n",
       "\n",
       "       instrumentalness         key    liveness    loudness        mode  \\\n",
       "count        427.000000  427.000000  427.000000  427.000000  427.000000   \n",
       "mean           0.014489    5.173302    0.185300   -6.044801    0.594848   \n",
       "std            0.080775    3.604632    0.137736    2.616608    0.491497   \n",
       "min            0.000000    0.000000    0.034100  -22.320000    0.000000   \n",
       "25%            0.000000    2.000000    0.094300   -7.039500    0.000000   \n",
       "50%            0.000000    6.000000    0.134000   -5.492000    1.000000   \n",
       "75%            0.000050    8.000000    0.240500   -4.465500    1.000000   \n",
       "max            0.836000   11.000000    0.882000   -0.698000    1.000000   \n",
       "\n",
       "       speechiness      target       tempo  time_signature     valence  \n",
       "count   427.000000  427.000000  427.000000      427.000000  427.000000  \n",
       "mean      0.082004    0.655738  121.992496        3.962529    0.537900  \n",
       "std       0.080011    0.475684   29.458095        0.244183    0.213176  \n",
       "min       0.024400    0.000000   51.316000        1.000000    0.039700  \n",
       "25%       0.037100    0.000000   98.081000        4.000000    0.388000  \n",
       "50%       0.050600    1.000000  120.046000        4.000000    0.543000  \n",
       "75%       0.085300    1.000000  140.707500        4.000000    0.686000  \n",
       "max       0.481000    1.000000  215.894000        5.000000    0.969000  "
      ]
     },
     "execution_count": 3,
     "metadata": {},
     "output_type": "execute_result"
    }
   ],
   "source": [
    "total_data.describe()"
   ]
  },
  {
   "cell_type": "markdown",
   "metadata": {},
   "source": [
    "### 3. Visual EDA\n",
    "\n",
    "Let us use the seaborn distribution plot to visualize the feature distribution differences between the liked songs and the disliked songs. We do this with the help of several functions, that give us the ability to either visualize the distribution of just one feature or all of the features. We decide which option to visualize within the first input prompt. The user chooses “all” if they want to visualize all of the features, and the user chooses “one” if there is one specifically that is wanted to be visualized. If “one” is selected the user chooses and enters one of the following features to be visualized. \n",
    "\n",
    "('acousticness', 'danceability', 'energy', 'instrumentalness', 'liveness', 'loudness', 'speechiness', 'tempo', 'time_signature', 'valence') \n",
    "\n"
   ]
  },
  {
   "cell_type": "code",
   "execution_count": 4,
   "metadata": {},
   "outputs": [],
   "source": [
    "import seaborn as sns\n",
    "import matplotlib.pyplot as plt"
   ]
  },
  {
   "cell_type": "code",
   "execution_count": 6,
   "metadata": {},
   "outputs": [
    {
     "name": "stdin",
     "output_type": "stream",
     "text": [
      "Do you want to visualize all of the features or select a specific one?(all/one):  one\n",
      "What feature's distributions do you want to look at?:  acousticness\n"
     ]
    },
    {
     "data": {
      "image/png": "[encoded data removed]",
      "text/plain": [
       "<Figure size 504x504 with 2 Axes>"
      ]
     },
     "metadata": {
      "needs_background": "light"
     },
     "output_type": "display_data"
    }
   ],
   "source": [
    "def create_distplot(*argv):\n",
    "    '''This function takes any number of features and returns 2 sns.distplots for the feature in the liked and disliked df.'''\n",
    "    for arg in argv:\n",
    "        f, axes = plt.subplots(1,2,figsize=(7, 7), sharex=True,sharey=True)\n",
    "        sns.distplot( liked_songs[str(arg)], color=\"skyblue\", ax=axes[0])\n",
    "        sns.distplot( disliked_songs[str(arg)] , color=\"red\", ax=axes[1])\n",
    "    return\n",
    "    \n",
    "def define_features_to_show(all=False):\n",
    "    '''This function takes a user input to dictate the feature that the sns.distplot shows'''\n",
    "    if all is True:\n",
    "        create_distplot('acousticness','danceability','energy','instrumentalness',\n",
    "                        'liveness','loudness','speechiness','valence')\n",
    "    else: \n",
    "        feature = str(input(\"What feature's distributions do you want to look at?: \"))\n",
    "        create_distplot(feature)\n",
    "    return\n",
    "\n",
    "def show_plots():\n",
    "    choice = str(input(\"Do you want to visualize all of the features or select a specific one?(all/one): \"))\n",
    "    if choice == 'all':\n",
    "        define_features_to_show(all=True)\n",
    "    else: \n",
    "        define_features_to_show()\n",
    "    return\n",
    "\n",
    "show_plots()"
   ]
  },
  {
   "cell_type": "markdown",
   "metadata": {},
   "source": [
    "### 4. Preform Pre-Processing \n"
   ]
  },
  {
   "cell_type": "code",
   "execution_count": 7,
   "metadata": {},
   "outputs": [],
   "source": [
    "from sklearn.preprocessing import StandardScaler\n",
    "from sklearn.decomposition import PCA"
   ]
  },
  {
   "cell_type": "code",
   "execution_count": 8,
   "metadata": {},
   "outputs": [],
   "source": [
    "#Define our Training & Target Features\n",
    "train_features = total_data.drop(columns=['analysis_url','id','track_href','type','uri','target','key'],axis=1)\n",
    "labels = total_data['target']"
   ]
  },
  {
   "cell_type": "code",
   "execution_count": 9,
   "metadata": {},
   "outputs": [
    {
     "data": {
      "text/plain": [
       "Text(0.5, 0, 'Principal Component #')"
      ]
     },
     "execution_count": 9,
     "metadata": {},
     "output_type": "execute_result"
    },
    {
     "data": {
      "image/png": "[encoded data removed]",
      "text/plain": [
       "<Figure size 432x288 with 1 Axes>"
      ]
     },
     "metadata": {
      "needs_background": "light"
     },
     "output_type": "display_data"
    }
   ],
   "source": [
    "scaler = StandardScaler()\n",
    "scaled_train_features = scaler.fit_transform(train_features)\n",
    "\n",
    "# Get our explained variance ratios from PCA using all features\n",
    "pca = PCA()\n",
    "pca.fit(scaled_train_features)\n",
    "exp_variance = pca.explained_variance_ratio_\n",
    "\n",
    "# plot the explained variance using a barplot\n",
    "fig, ax = plt.subplots()\n",
    "ax.bar(range(pca.n_components_), exp_variance)\n",
    "ax.set_xlabel('Principal Component #')"
   ]
  },
  {
   "cell_type": "code",
   "execution_count": 11,
   "metadata": {},
   "outputs": [
    {
     "data": {
      "text/plain": [
       "<matplotlib.lines.Line2D at 0x11f098f60>"
      ]
     },
     "execution_count": 11,
     "metadata": {},
     "output_type": "execute_result"
    },
    {
     "data": {
      "image/png": "[encoded data removed]",
      "text/plain": [
       "<Figure size 432x288 with 1 Axes>"
      ]
     },
     "metadata": {
      "needs_background": "light"
     },
     "output_type": "display_data"
    }
   ],
   "source": [
    "# Calculate the cumulative explained variance\n",
    "cum_exp_variance = np.cumsum(exp_variance)\n",
    "\n",
    "# Plot the cumulative explained variance and draw a dashed line at 90%\n",
    "fig, ax = plt.subplots()\n",
    "ax.plot(range(12),cum_exp_variance)\n",
    "ax.axhline(y=0.9, linestyle='--')"
   ]
  },
  {
   "cell_type": "code",
   "execution_count": 12,
   "metadata": {},
   "outputs": [],
   "source": [
    "#The first 9 Principle Components explain 90% of the variance\n",
    "n_components = 8\n",
    "\n",
    "# Perform PCA with the chosen number of components and project data onto components\n",
    "pca = PCA(n_components, random_state=10)\n",
    "pca.fit(scaled_train_features)\n",
    "pca_projection = pca.transform(scaled_train_features)"
   ]
  },
  {
   "cell_type": "markdown",
   "metadata": {},
   "source": [
    "### 5. Model Selection and Implementation"
   ]
  },
  {
   "cell_type": "code",
   "execution_count": 13,
   "metadata": {},
   "outputs": [],
   "source": [
    "from sklearn.model_selection import train_test_split"
   ]
  },
  {
   "cell_type": "code",
   "execution_count": 14,
   "metadata": {},
   "outputs": [],
   "source": [
    "# Split our data\n",
    "train_features, test_features, train_labels, test_labels = train_test_split(pca_projection, labels, random_state=10)"
   ]
  },
  {
   "cell_type": "code",
   "execution_count": 15,
   "metadata": {},
   "outputs": [],
   "source": [
    "from sklearn.linear_model import LogisticRegression\n",
    "from sklearn.tree import DecisionTreeClassifier\n",
    "from sklearn.neighbors import KNeighborsClassifier"
   ]
  },
  {
   "cell_type": "code",
   "execution_count": 16,
   "metadata": {},
   "outputs": [
    {
     "name": "stdout",
     "output_type": "stream",
     "text": [
      "Decision Tree: \n",
      "              precision    recall  f1-score   support\n",
      "\n",
      "          0       0.37      0.49      0.42        35\n",
      "          1       0.70      0.60      0.65        72\n",
      "\n",
      "avg / total       0.60      0.56      0.57       107\n",
      "\n",
      "Logistic Regression: \n",
      "              precision    recall  f1-score   support\n",
      "\n",
      "          0       0.55      0.46      0.50        35\n",
      "          1       0.76      0.82      0.79        72\n",
      "\n",
      "avg / total       0.69      0.70      0.69       107\n",
      "\n",
      "KNearest Neighbors: \n",
      "              precision    recall  f1-score   support\n",
      "\n",
      "          0       0.45      0.40      0.42        35\n",
      "          1       0.72      0.76      0.74        72\n",
      "\n",
      "avg / total       0.63      0.64      0.64       107\n",
      "\n"
     ]
    }
   ],
   "source": [
    "# Train our decision tree\n",
    "tree = DecisionTreeClassifier(random_state=10)\n",
    "tree.fit(train_features, train_labels)\n",
    "pred_labels_tree = tree.predict(test_features)\n",
    "\n",
    "# Train our logistic regression\n",
    "logreg = LogisticRegression(random_state=10)\n",
    "logreg.fit(train_features, train_labels)\n",
    "pred_labels_logit = logreg.predict(test_features)\n",
    "\n",
    "# Train our KNeighbors on the balanced data\n",
    "knn = KNeighborsClassifier(3)\n",
    "knn.fit(train_features, train_labels)\n",
    "pred_labels_knn = knn.predict(test_features)\n",
    "\n",
    "# Create the classification report for both models\n",
    "from sklearn.metrics import classification_report\n",
    "class_rep_tree = classification_report(test_labels, pred_labels_tree)\n",
    "class_rep_log = classification_report(test_labels, pred_labels_logit)\n",
    "class_rep_knn = classification_report(test_labels, pred_labels_knn)\n",
    "\n",
    "print(\"Decision Tree: \\n\", class_rep_tree)\n",
    "print(\"Logistic Regression: \\n\", class_rep_log)\n",
    "print(\"KNearest Neighbors: \\n\", class_rep_knn)"
   ]
  },
  {
   "cell_type": "markdown",
   "metadata": {},
   "source": [
    "### 6. Model Adjustment"
   ]
  },
  {
   "cell_type": "code",
   "execution_count": 17,
   "metadata": {},
   "outputs": [],
   "source": [
    "# Subset only the bad songs\n",
    "not_only = total_data.loc[total_data[\"target\"] == 0]\n",
    "\n",
    "# sample the Good songs to be the same number as there are in the bad songs\n",
    "like_only = total_data.loc[total_data[\"target\"] == 1].sample(len(not_only), random_state=10)\n",
    "\n",
    "# concatenate the dataframes good and bad\n",
    "not_like_bal = pd.concat([not_only, like_only])\n",
    "\n",
    "# The features, labels, and pca projection are created for the balanced dataframe\n",
    "track_features = not_like_bal.drop(columns=['analysis_url','id','track_href','type','uri','target'],axis=1)\n",
    "labels = not_like_bal['target']\n",
    "pca_projection = pca.fit_transform(scaler.fit_transform(track_features))\n",
    "\n",
    "# Redefine the train and test set with the pca_projection from the balanced data\n",
    "train_features, test_features, train_labels, test_labels = train_test_split(pca_projection, labels, random_state=10)"
   ]
  },
  {
   "cell_type": "code",
   "execution_count": 18,
   "metadata": {},
   "outputs": [
    {
     "name": "stdout",
     "output_type": "stream",
     "text": [
      "Decision Tree: \n",
      "              precision    recall  f1-score   support\n",
      "\n",
      "          0       0.38      0.47      0.42        30\n",
      "          1       0.57      0.48      0.52        44\n",
      "\n",
      "avg / total       0.49      0.47      0.48        74\n",
      "\n",
      "Logistic Regression: \n",
      "              precision    recall  f1-score   support\n",
      "\n",
      "          0       0.49      0.67      0.56        30\n",
      "          1       0.70      0.52      0.60        44\n",
      "\n",
      "avg / total       0.61      0.58      0.58        74\n",
      "\n",
      "KNN: \n",
      "              precision    recall  f1-score   support\n",
      "\n",
      "          0       0.49      0.77      0.60        30\n",
      "          1       0.74      0.45      0.56        44\n",
      "\n",
      "avg / total       0.64      0.58      0.58        74\n",
      "\n"
     ]
    }
   ],
   "source": [
    "# Train our decision tree on the balanced data\n",
    "tree = DecisionTreeClassifier(random_state=10)\n",
    "tree.fit(train_features, train_labels)\n",
    "pred_labels_tree = tree.predict(test_features)\n",
    "\n",
    "# Train our logistic regression on the balanced data\n",
    "logreg = LogisticRegression(random_state=10)\n",
    "logreg.fit(train_features, train_labels)\n",
    "pred_labels_logit = logreg.predict(test_features)\n",
    "\n",
    "# Train our KNeighbors on the balanced data\n",
    "knn = KNeighborsClassifier(3)\n",
    "knn.fit(train_features, train_labels)\n",
    "knn_pred = knn.predict(test_features)\n",
    "\n",
    "# Compare the models\n",
    "print(\"Decision Tree: \\n\", classification_report(test_labels, pred_labels_tree))\n",
    "print(\"Logistic Regression: \\n\", classification_report(test_labels, pred_labels_logit))\n",
    "print(\"KNN: \\n\", classification_report(test_labels, knn_pred))"
   ]
  },
  {
   "cell_type": "markdown",
   "metadata": {},
   "source": [
    "### 7. KFold Cross-Validation"
   ]
  },
  {
   "cell_type": "code",
   "execution_count": 24,
   "metadata": {},
   "outputs": [],
   "source": [
    "from sklearn.model_selection import KFold\n",
    "from sklearn.model_selection import cross_val_score"
   ]
  },
  {
   "cell_type": "code",
   "execution_count": 25,
   "metadata": {},
   "outputs": [
    {
     "name": "stdout",
     "output_type": "stream",
     "text": [
      "Decision Tree: 0.5171264367816091 Logistic Regression: 0.588735632183908 KNN: 0.48298850574712643\n"
     ]
    }
   ],
   "source": [
    "# Set up our K-fold cross-validation\n",
    "kf = KFold(n_splits=10, random_state=10)\n",
    "\n",
    "tree = DecisionTreeClassifier(random_state=10)\n",
    "logreg = LogisticRegression(random_state=10)\n",
    "knn = KNeighborsClassifier(3)\n",
    "\n",
    "# Train our models using KFold cv\n",
    "tree_score = cross_val_score(tree, pca_projection, labels, cv=kf)\n",
    "logit_score = cross_val_score(logreg, pca_projection, labels, cv=kf)\n",
    "knn_score = cross_val_score(knn, pca_projection, labels, cv=kf)\n",
    "\n",
    "# Print the mean of each array of scores\n",
    "print(\"Decision Tree:\", np.mean(tree_score), \"Logistic Regression:\", np.mean(logit_score), \"KNN:\", np.mean(knn_score))"
   ]
  },
  {
   "cell_type": "markdown",
   "metadata": {},
   "source": [
    "## Conclusion"
   ]
  }
 ],
 "metadata": {
  "kernelspec": {
   "display_name": "Python 3",
   "language": "python",
   "name": "python3"
  },
  "language_info": {
   "codemirror_mode": {
    "name": "ipython",
    "version": 3
   },
   "file_extension": ".py",
   "mimetype": "text/x-python",
   "name": "python",
   "nbconvert_exporter": "python",
   "pygments_lexer": "ipython3",
   "version": "3.6.5"
  }
 },
 "nbformat": 4,
 "nbformat_minor": 2
}
